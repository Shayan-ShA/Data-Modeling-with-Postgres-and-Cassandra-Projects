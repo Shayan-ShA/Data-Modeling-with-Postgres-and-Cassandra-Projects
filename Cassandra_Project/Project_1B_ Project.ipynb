{
 "cells": [
  {
   "cell_type": "markdown",
   "metadata": {},
   "source": [
    "# Part I. ETL Pipeline for Pre-Processing the Files"
   ]
  },
  {
   "cell_type": "markdown",
   "metadata": {},
   "source": [
    "## PLEASE RUN THE FOLLOWING CODE FOR PRE-PROCESSING THE FILES"
   ]
  },
  {
   "cell_type": "markdown",
   "metadata": {},
   "source": [
    "#### Import Python packages "
   ]
  },
  {
   "cell_type": "code",
   "execution_count": 1,
   "metadata": {},
   "outputs": [],
   "source": [
    "# Import Python packages \n",
    "import pandas as pd\n",
    "import cassandra\n",
    "import re\n",
    "import os\n",
    "import glob\n",
    "import numpy as np\n",
    "import json\n",
    "import csv"
   ]
  },
  {
   "cell_type": "markdown",
   "metadata": {},
   "source": [
    "#### Creating list of filepaths to process original event csv data files"
   ]
  },
  {
   "cell_type": "code",
   "execution_count": 2,
   "metadata": {},
   "outputs": [
    {
     "name": "stdout",
     "output_type": "stream",
     "text": [
      "C:\\Users\\Main User\\Documents\\Udacity-DataEngineering\\github\\data modeling\\Cassandra\n",
      "['C:\\\\Users\\\\Main User\\\\Documents\\\\Udacity-DataEngineering\\\\github\\\\data modeling\\\\Cassandra/event_data\\\\2018-11-01-events.csv', 'C:\\\\Users\\\\Main User\\\\Documents\\\\Udacity-DataEngineering\\\\github\\\\data modeling\\\\Cassandra/event_data\\\\2018-11-02-events.csv', 'C:\\\\Users\\\\Main User\\\\Documents\\\\Udacity-DataEngineering\\\\github\\\\data modeling\\\\Cassandra/event_data\\\\2018-11-03-events.csv', 'C:\\\\Users\\\\Main User\\\\Documents\\\\Udacity-DataEngineering\\\\github\\\\data modeling\\\\Cassandra/event_data\\\\2018-11-04-events.csv', 'C:\\\\Users\\\\Main User\\\\Documents\\\\Udacity-DataEngineering\\\\github\\\\data modeling\\\\Cassandra/event_data\\\\2018-11-05-events.csv', 'C:\\\\Users\\\\Main User\\\\Documents\\\\Udacity-DataEngineering\\\\github\\\\data modeling\\\\Cassandra/event_data\\\\2018-11-06-events.csv', 'C:\\\\Users\\\\Main User\\\\Documents\\\\Udacity-DataEngineering\\\\github\\\\data modeling\\\\Cassandra/event_data\\\\2018-11-07-events.csv', 'C:\\\\Users\\\\Main User\\\\Documents\\\\Udacity-DataEngineering\\\\github\\\\data modeling\\\\Cassandra/event_data\\\\2018-11-08-events.csv', 'C:\\\\Users\\\\Main User\\\\Documents\\\\Udacity-DataEngineering\\\\github\\\\data modeling\\\\Cassandra/event_data\\\\2018-11-09-events.csv', 'C:\\\\Users\\\\Main User\\\\Documents\\\\Udacity-DataEngineering\\\\github\\\\data modeling\\\\Cassandra/event_data\\\\2018-11-10-events.csv', 'C:\\\\Users\\\\Main User\\\\Documents\\\\Udacity-DataEngineering\\\\github\\\\data modeling\\\\Cassandra/event_data\\\\2018-11-11-events.csv', 'C:\\\\Users\\\\Main User\\\\Documents\\\\Udacity-DataEngineering\\\\github\\\\data modeling\\\\Cassandra/event_data\\\\2018-11-12-events.csv', 'C:\\\\Users\\\\Main User\\\\Documents\\\\Udacity-DataEngineering\\\\github\\\\data modeling\\\\Cassandra/event_data\\\\2018-11-13-events.csv', 'C:\\\\Users\\\\Main User\\\\Documents\\\\Udacity-DataEngineering\\\\github\\\\data modeling\\\\Cassandra/event_data\\\\2018-11-14-events.csv', 'C:\\\\Users\\\\Main User\\\\Documents\\\\Udacity-DataEngineering\\\\github\\\\data modeling\\\\Cassandra/event_data\\\\2018-11-15-events.csv', 'C:\\\\Users\\\\Main User\\\\Documents\\\\Udacity-DataEngineering\\\\github\\\\data modeling\\\\Cassandra/event_data\\\\2018-11-16-events.csv', 'C:\\\\Users\\\\Main User\\\\Documents\\\\Udacity-DataEngineering\\\\github\\\\data modeling\\\\Cassandra/event_data\\\\2018-11-17-events.csv', 'C:\\\\Users\\\\Main User\\\\Documents\\\\Udacity-DataEngineering\\\\github\\\\data modeling\\\\Cassandra/event_data\\\\2018-11-18-events.csv', 'C:\\\\Users\\\\Main User\\\\Documents\\\\Udacity-DataEngineering\\\\github\\\\data modeling\\\\Cassandra/event_data\\\\2018-11-19-events.csv', 'C:\\\\Users\\\\Main User\\\\Documents\\\\Udacity-DataEngineering\\\\github\\\\data modeling\\\\Cassandra/event_data\\\\2018-11-20-events.csv', 'C:\\\\Users\\\\Main User\\\\Documents\\\\Udacity-DataEngineering\\\\github\\\\data modeling\\\\Cassandra/event_data\\\\2018-11-21-events.csv', 'C:\\\\Users\\\\Main User\\\\Documents\\\\Udacity-DataEngineering\\\\github\\\\data modeling\\\\Cassandra/event_data\\\\2018-11-22-events.csv', 'C:\\\\Users\\\\Main User\\\\Documents\\\\Udacity-DataEngineering\\\\github\\\\data modeling\\\\Cassandra/event_data\\\\2018-11-23-events.csv', 'C:\\\\Users\\\\Main User\\\\Documents\\\\Udacity-DataEngineering\\\\github\\\\data modeling\\\\Cassandra/event_data\\\\2018-11-24-events.csv', 'C:\\\\Users\\\\Main User\\\\Documents\\\\Udacity-DataEngineering\\\\github\\\\data modeling\\\\Cassandra/event_data\\\\2018-11-25-events.csv', 'C:\\\\Users\\\\Main User\\\\Documents\\\\Udacity-DataEngineering\\\\github\\\\data modeling\\\\Cassandra/event_data\\\\2018-11-26-events.csv', 'C:\\\\Users\\\\Main User\\\\Documents\\\\Udacity-DataEngineering\\\\github\\\\data modeling\\\\Cassandra/event_data\\\\2018-11-27-events.csv', 'C:\\\\Users\\\\Main User\\\\Documents\\\\Udacity-DataEngineering\\\\github\\\\data modeling\\\\Cassandra/event_data\\\\2018-11-28-events.csv', 'C:\\\\Users\\\\Main User\\\\Documents\\\\Udacity-DataEngineering\\\\github\\\\data modeling\\\\Cassandra/event_data\\\\2018-11-29-events.csv', 'C:\\\\Users\\\\Main User\\\\Documents\\\\Udacity-DataEngineering\\\\github\\\\data modeling\\\\Cassandra/event_data\\\\2018-11-30-events.csv']\n"
     ]
    }
   ],
   "source": [
    "# checking your current working directory\n",
    "print(os.getcwd())\n",
    "\n",
    "# Get your current folder and subfolder event data\n",
    "filepath = os.getcwd() + '/event_data'\n",
    "\n",
    "# Create a for loop to create a list of files and collect each filepath\n",
    "for root, dirs, files in os.walk(filepath):\n",
    "    \n",
    "# join the file path and roots with the subdirectories using glob\n",
    "    file_path_list = glob.glob(os.path.join(root,'*'))\n",
    "    print(file_path_list)"
   ]
  },
  {
   "cell_type": "markdown",
   "metadata": {},
   "source": [
    "#### Processing the files to create the data file csv that will be used for Apache Casssandra tables"
   ]
  },
  {
   "cell_type": "code",
   "execution_count": 3,
   "metadata": {},
   "outputs": [
    {
     "name": "stdout",
     "output_type": "stream",
     "text": [
      "8056\n"
     ]
    }
   ],
   "source": [
    "# initiating an empty list of rows that will be generated from each file\n",
    "full_data_rows_list = [] \n",
    "    \n",
    "# for every filepath in the file path list \n",
    "for f in file_path_list:\n",
    "\n",
    "# reading csv file \n",
    "    with open(f, 'r', encoding = 'utf8', newline='') as csvfile: \n",
    "        # creating a csv reader object \n",
    "        csvreader = csv.reader(csvfile) \n",
    "        next(csvreader)\n",
    "        \n",
    " # extracting each data row one by one and append it        \n",
    "        for line in csvreader:\n",
    "            #print(line)\n",
    "            full_data_rows_list.append(line) \n",
    "            \n",
    "# uncomment the code below if you would like to get total number of rows \n",
    "print(len(full_data_rows_list))\n",
    "# uncomment the code below if you would like to check to see what the list of event data rows will look like\n",
    "#print(full_data_rows_list)\n",
    "\n",
    "# creating a smaller event data csv file called event_datafile_full csv that will be used to insert data into the \\\n",
    "# Apache Cassandra tables\n",
    "csv.register_dialect('myDialect', quoting=csv.QUOTE_ALL, skipinitialspace=True)\n",
    "\n",
    "with open('event_datafile_new.csv', 'w', encoding = 'utf8', newline='') as f:\n",
    "    writer = csv.writer(f, dialect='myDialect')\n",
    "    writer.writerow(['artist','firstName','gender','itemInSession','lastName','length',\\\n",
    "                'level','location','sessionId','song','userId'])\n",
    "    for row in full_data_rows_list:\n",
    "        if (row[0] == ''):\n",
    "            continue\n",
    "        writer.writerow((row[0], row[2], row[3], row[4], row[5], row[6], row[7], row[8], row[12], row[13], row[16]))\n"
   ]
  },
  {
   "cell_type": "code",
   "execution_count": 4,
   "metadata": {},
   "outputs": [
    {
     "name": "stdout",
     "output_type": "stream",
     "text": [
      "6821\n"
     ]
    }
   ],
   "source": [
    "# check the number of rows in your csv file\n",
    "with open('event_datafile_new.csv', 'r', encoding = 'utf8') as f:\n",
    "    print(sum(1 for line in f))"
   ]
  },
  {
   "cell_type": "markdown",
   "metadata": {},
   "source": [
    "# Part II. Complete the Apache Cassandra coding portion of your project. \n",
    "\n",
    "## Now you are ready to work with the CSV file titled <font color=red>event_datafile_new.csv</font>, located within the Workspace directory.  The event_datafile_new.csv contains the following columns: \n",
    "- artist \n",
    "- firstName of user\n",
    "- gender of user\n",
    "- item number in session\n",
    "- last name of user\n",
    "- length of the song\n",
    "- level (paid or free song)\n",
    "- location of the user\n",
    "- sessionId\n",
    "- song title\n",
    "- userId\n",
    "\n",
    "The image below is a screenshot of what the denormalized data should appear like in the <font color=red>**event_datafile_new.csv**</font> after the code above is run:<br>\n",
    "\n",
    "<img src=\"images/image_event_datafile_new.jpg\">"
   ]
  },
  {
   "cell_type": "markdown",
   "metadata": {},
   "source": [
    "## Begin writing your Apache Cassandra code in the cells below"
   ]
  },
  {
   "cell_type": "markdown",
   "metadata": {},
   "source": [
    "#### Creating a Cluster"
   ]
  },
  {
   "cell_type": "code",
   "execution_count": 5,
   "metadata": {},
   "outputs": [],
   "source": [
    "# This should make a connection to a Cassandra instance your local machine \n",
    "# (127.0.0.1)\n",
    "\n",
    "from cassandra.cluster import Cluster\n",
    "cluster = Cluster()\n",
    "\n",
    "# To establish connection and begin executing queries, need a session\n",
    "session = cluster.connect()"
   ]
  },
  {
   "cell_type": "markdown",
   "metadata": {},
   "source": [
    "#### Create Keyspace"
   ]
  },
  {
   "cell_type": "code",
   "execution_count": 6,
   "metadata": {},
   "outputs": [],
   "source": [
    "# Keyspace Creation \n",
    "try:\n",
    "    session.execute(\n",
    "        \"\"\"\n",
    "        CREATE KEYSPACE IF NOT EXISTS sparkifydatabase\n",
    "        WITH REPLICATION = \n",
    "        {'class':'SimpleStrategy','replication_factor':1}\n",
    "        \"\"\"\n",
    "    )\n",
    "except Exception as e:\n",
    "    print(e)"
   ]
  },
  {
   "cell_type": "markdown",
   "metadata": {},
   "source": [
    "#### Set Keyspace"
   ]
  },
  {
   "cell_type": "code",
   "execution_count": 7,
   "metadata": {},
   "outputs": [],
   "source": [
    "# Set KEYSPACE to the keyspace specified above\n",
    "try:\n",
    "    session.set_keyspace('sparkifydatabase')\n",
    "except Exception as e:\n",
    "    print(e)"
   ]
  },
  {
   "cell_type": "markdown",
   "metadata": {},
   "source": [
    "### Now we need to create tables to run the following queries. Remember, with Apache Cassandra you model the database tables on the queries you want to run."
   ]
  },
  {
   "cell_type": "markdown",
   "metadata": {},
   "source": [
    "## Create queries to ask the following three questions of the data\n",
    "\n",
    "### 1. Give me the artist, song title and song's length in the music app history that was heard during  sessionId = 338, and itemInSession  = 4\n",
    "\n",
    "\n",
    "### 2. Give me only the following: name of artist, song (sorted by itemInSession) and user (first and last name) for userid = 10, sessionid = 182\n",
    "    \n",
    "\n",
    "### 3. Give me every user name (first and last) in my music app history who listened to the song 'All Hands Against His Own'\n",
    "\n",
    "\n"
   ]
  },
  {
   "cell_type": "code",
   "execution_count": 8,
   "metadata": {},
   "outputs": [],
   "source": [
    "## Query 1:  Give me the artist, song title and song's length in the music app history that was heard during \\\n",
    "## sessionId = 338, and itemInSession = 4\n",
    "\n",
    "create_table_1 = \"CREATE TABLE IF NOT EXISTS songTable\"\n",
    "create_table_1 = create_table_1 + (\n",
    "                                  \"\"\" (session_id INT, item_in_session INT, artist TEXT, song_title TEXT,\n",
    "                                        song_length FLOAT, PRIMARY KEY (session_id, item_in_session)\n",
    "                                  )\"\"\"\n",
    "                                  )\n",
    "try:\n",
    "    session.execute(create_table_1)\n",
    "except Exception as e:\n",
    "    print(e)\n",
    "select_query_1 = \"\"\" \n",
    "                    SELECT artist, song_title, song_length FROM songTable\n",
    "                    WHERE session_id = %s \n",
    "                    AND item_in_session = %s \n",
    "                 \"\"\"                    "
   ]
  },
  {
   "cell_type": "code",
   "execution_count": 9,
   "metadata": {},
   "outputs": [],
   "source": [
    "# Table 1: Insertion\n",
    "\n",
    "file = 'event_datafile_new.csv'\n",
    "\n",
    "with open(file, encoding = 'utf8') as f:\n",
    "    csvreader = csv.reader(f)\n",
    "    next(csvreader) # skip header\n",
    "    for line in csvreader:\n",
    "    ## Assign the INSERT statements into the `query` variable\n",
    "        query = \"INSERT INTO songTable(session_id, item_in_session, artist, song_title, song_length)\"\n",
    "        query = query + \"VALUES (%s, %s, %s, %s, %s)\"\n",
    "        session.execute(query, (int(line[8]), int(line[3]), line[0], line[9], float(line[5])))"
   ]
  },
  {
   "cell_type": "markdown",
   "metadata": {},
   "source": [
    "#### Do a SELECT to verify that the data have been inserted into each table"
   ]
  },
  {
   "cell_type": "markdown",
   "metadata": {},
   "source": [
    "#### For query 1, To query on sessionId and itemInSession,the primary key must include these columns as clustering column. Our Select query : SELECT artist, song, length FROM session_item where sessionId = 338 and itemInSession = 4 Our Primary key will be (sessionId, itemInSession), where sessionId is the partition key."
   ]
  },
  {
   "cell_type": "code",
   "execution_count": 10,
   "metadata": {
    "scrolled": true
   },
   "outputs": [
    {
     "name": "stdout",
     "output_type": "stream",
     "text": [
      "Artist: Faithless \n",
      "Song Title: Music Matters (Mark Knight Dub) \n",
      "Song Length: 495.30731201171875\n"
     ]
    }
   ],
   "source": [
    "## Table 1: SELECT statement\n",
    "try:\n",
    "    vals = session.execute(select_query_1, (338, 4))\n",
    "except Exception as e:\n",
    "    print(e)\n",
    "    \n",
    "for val in vals:\n",
    "    print(\"Artist: \"+val.artist, \"\\nSong Title: \"+val.song_title, \"\\nSong Length: \"+str(val.song_length))"
   ]
  },
  {
   "cell_type": "markdown",
   "metadata": {},
   "source": [
    "### COPY AND REPEAT THE ABOVE THREE CELLS FOR EACH OF THE THREE QUESTIONS"
   ]
  },
  {
   "cell_type": "code",
   "execution_count": 11,
   "metadata": {},
   "outputs": [],
   "source": [
    "## Query 2: Give me only the following: name of artist, song (sorted by itemInSession) and user (first and last name)\\\n",
    "## for userid = 10, sessionid = 182\n",
    "create_table_2 = \"CREATE TABLE IF NOT EXISTS artistTable\"\n",
    "create_table_2 = create_table_2 + (\"\"\" \n",
    "                    (user_id INT, session_id INT, item_in_session INT, \n",
    "                     artist_name TEXT, song_title TEXT, user_first_name TEXT, \n",
    "                     user_last_name TEXT, PRIMARY KEY ((user_id, session_id), item_in_session)\n",
    "                )WITH CLUSTERING ORDER BY (item_in_session ASC)\"\"\")\n",
    "try:\n",
    "    session.execute(create_table_2)\n",
    "except Exception as e:\n",
    "    print(e)\n",
    "    \n",
    "select_query_2 = \"\"\" SELECT artist_name, song_title, user_first_name, user_last_name FROM artistTable\n",
    "                    WHERE user_id = %s\n",
    "                    AND session_id = %s\n",
    "                    \"\"\"                  \n",
    "\n",
    "                    "
   ]
  },
  {
   "cell_type": "code",
   "execution_count": 12,
   "metadata": {},
   "outputs": [],
   "source": [
    "# Table 2: Insertion\n",
    "file = 'event_datafile_new.csv'\n",
    "\n",
    "with open(file, encoding = 'utf8') as f:\n",
    "    csvreader = csv.reader(f)\n",
    "    next(csvreader) # skip header\n",
    "    for line in csvreader:\n",
    "        query = \"INSERT INTO artistTable(user_id, session_id, item_in_session, artist_name, \\\n",
    "                                            song_title, user_first_name, user_last_name)\"\n",
    "        query = query + \"VALUES (%s, %s, %s, %s, %s, %s, %s)\"\n",
    "        ## Assign which column element should be assigned for each column in the INSERT statement.\n",
    "        session.execute(query, (int(line[10]), int(line[8]), int(line[3]), line[0], line[9], line[1], line[4]))"
   ]
  },
  {
   "cell_type": "markdown",
   "metadata": {},
   "source": [
    "#### For query 2, To run query on sessionId and userId and to sorted data on itemInSession, the primary key must have these columns. We can partition the data on a composite key (sessionId, userId). Select statement : SELECT artist, song, firstName, lastName FROM user_session where sessionId = 182 and userId = 10. The Primary key is ((sessionId, userId), itemInSession)), where (sessionId, userId) is the partition key and itemInSession is the clustering column. Also, we are using the clause - WITH CLUSTERING ORDER BY (itemInSession ASC), to sort our data based on itemInSession Columns we included in the table : sessionId, userId, artist, song, firstName, lastName, itemInSession."
   ]
  },
  {
   "cell_type": "code",
   "execution_count": 13,
   "metadata": {},
   "outputs": [
    {
     "name": "stdout",
     "output_type": "stream",
     "text": [
      "Artist: Down To The Bone \n",
      "Song Title: Keep On Keepin' On \n",
      "User First Name: Sylvie \n",
      "User Last Name: Cruz\n",
      "Artist: Three Drives \n",
      "Song Title: Greece 2000 \n",
      "User First Name: Sylvie \n",
      "User Last Name: Cruz\n",
      "Artist: Sebastien Tellier \n",
      "Song Title: Kilometer \n",
      "User First Name: Sylvie \n",
      "User Last Name: Cruz\n",
      "Artist: Lonnie Gordon \n",
      "Song Title: Catch You Baby (Steve Pitron & Max Sanna Radio Edit) \n",
      "User First Name: Sylvie \n",
      "User Last Name: Cruz\n"
     ]
    }
   ],
   "source": [
    "## Table 2: SELECT statement\n",
    "try:\n",
    "    rows = session.execute(select_query_2, (10, 182))\n",
    "except Exception as e:\n",
    "    print(e)\n",
    "    \n",
    "for row in rows:\n",
    "    print(\"Artist: \"+row.artist_name, \"\\nSong Title: \"+row.song_title, \"\\nUser First Name: \"+row.user_first_name, \"\\nUser Last Name: \"+row.user_last_name)"
   ]
  },
  {
   "cell_type": "code",
   "execution_count": 14,
   "metadata": {},
   "outputs": [],
   "source": [
    "## Query 3: Give me every user name (first and last) in my music app history who listened to the song 'All Hands Against His Own'\n",
    "create_table_3 = \"CREATE TABLE IF NOT EXISTS userTable\"\n",
    "create_table_3 = create_table_3 + (\"\"\" (song_title TEXT, user_id INT, user_first_name TEXT, user_last_name TEXT, \n",
    "                                        PRIMARY KEY ((song_title), user_id)\n",
    "                )\"\"\")\n",
    "try:\n",
    "    session.execute(create_table_3)\n",
    "except Exception as e:\n",
    "    print(e)\n",
    "\n",
    "                    "
   ]
  },
  {
   "cell_type": "code",
   "execution_count": 15,
   "metadata": {},
   "outputs": [],
   "source": [
    "# Table 3: Insertion\n",
    "file = 'event_datafile_new.csv'\n",
    "\n",
    "with open(file, encoding = 'utf8') as f:\n",
    "    csvreader = csv.reader(f)\n",
    "    next(csvreader) # skip header\n",
    "    for line in csvreader:\n",
    "        query = \"INSERT INTO userTable(song_title, user_id, user_first_name, user_last_name)\"\n",
    "        query = query + \"VALUES (%s, %s, %s, %s)\"\n",
    "        ## Assign which column element should be assigned for each column in the INSERT statement.\n",
    "        session.execute(query, (line[9], int(line[10]), line[1], line[4]))"
   ]
  },
  {
   "cell_type": "markdown",
   "metadata": {},
   "source": [
    "#### For query 3,to query on song, the primary key must have song. Duplicate users for a song should be remo in our table. This can be acheived by including userId in our primary key.¶\n",
    "Our Select query : SELECT song, firstName, lastName FROM user_song where song = 'All Hands Against His Own'\n",
    "Our Primary key will be ((song), userId)), where song is the partition key and userId is the clustering column.\n",
    "Columns we included in the table : song, userId, firstName, lastName"
   ]
  },
  {
   "cell_type": "code",
   "execution_count": 16,
   "metadata": {},
   "outputs": [
    {
     "name": "stdout",
     "output_type": "stream",
     "text": [
      "name 'select_query_3' is not defined\n"
     ]
    }
   ],
   "source": [
    "## Table 3: SELECT statement\n",
    "try:\n",
    "    rows = session.execute(select_query_3, ('All Hands Against His Own', ))\n",
    "except Exception as e:\n",
    "    print(e)\n",
    "\n",
    "for row in rows:\n",
    "    print(\"User First Name: \"+row.user_first_name, \"\\nUser Last Name: \"+row.user_last_name)"
   ]
  },
  {
   "cell_type": "markdown",
   "metadata": {},
   "source": [
    "### Drop the tables before closing out the sessions"
   ]
  },
  {
   "cell_type": "code",
   "execution_count": 17,
   "metadata": {},
   "outputs": [
    {
     "data": {
      "text/plain": [
       "<cassandra.cluster.ResultSet at 0x2289e534340>"
      ]
     },
     "execution_count": 17,
     "metadata": {},
     "output_type": "execute_result"
    }
   ],
   "source": [
    "session.execute(\"DROP TABLE IF EXISTS songTable\")\n",
    "session.execute(\"DROP TABLE IF EXISTS artistTable\")\n",
    "session.execute(\"DROP TABLE IF EXISTS userTable\")"
   ]
  },
  {
   "cell_type": "markdown",
   "metadata": {},
   "source": [
    "### Close the session and cluster connection¶"
   ]
  },
  {
   "cell_type": "code",
   "execution_count": 18,
   "metadata": {},
   "outputs": [],
   "source": [
    "session.shutdown()\n",
    "cluster.shutdown()"
   ]
  },
  {
   "cell_type": "code",
   "execution_count": null,
   "metadata": {},
   "outputs": [],
   "source": []
  },
  {
   "cell_type": "code",
   "execution_count": null,
   "metadata": {},
   "outputs": [],
   "source": []
  }
 ],
 "metadata": {
  "kernelspec": {
   "display_name": "Python 3",
   "language": "python",
   "name": "python3"
  },
  "language_info": {
   "codemirror_mode": {
    "name": "ipython",
    "version": 3
   },
   "file_extension": ".py",
   "mimetype": "text/x-python",
   "name": "python",
   "nbconvert_exporter": "python",
   "pygments_lexer": "ipython3",
   "version": "3.8.10"
  }
 },
 "nbformat": 4,
 "nbformat_minor": 4
}
